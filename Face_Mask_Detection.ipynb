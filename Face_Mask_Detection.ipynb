{
  "nbformat": 4,
  "nbformat_minor": 0,
  "metadata": {
    "colab": {
      "name": "Face Mask Detection.ipynb",
      "provenance": []
    },
    "kernelspec": {
      "name": "python3",
      "display_name": "Python 3"
    },
    "language_info": {
      "name": "python"
    }
  },
  "cells": [
    {
      "cell_type": "code",
      "metadata": {
        "id": "6_FcE8VN7LF_"
      },
      "source": [
        "import cv2 \n",
        "import uuid\n",
        "from matplotlib import pyplot as plt"
      ],
      "execution_count": null,
      "outputs": []
    },
    {
      "cell_type": "code",
      "metadata": {
        "id": "Oz3VtO3G7Vnd"
      },
      "source": [
        "cap = cv2.VideoCapture(2)\n",
        "width = int(cap.get(cv2.CAP_PROP_FRAME_WIDTH))\n",
        "height = int(cap.get(cv2.CAP_PROP_FRAME_HEIGHT))"
      ],
      "execution_count": null,
      "outputs": []
    },
    {
      "cell_type": "code",
      "metadata": {
        "id": "4_Ym0mVa7ZmZ"
      },
      "source": [
        "while True: \n",
        "    ret, frame = cap.read()\n",
        "    imgname = '  '.format(str(uuid.uuid1()))\n",
        "    cv2.imwrite(imgname, frame)\n",
        "    cv2.imshow('frame', frame)\n",
        "    \n",
        "    if cv2.waitKey(1) & 0xFF == ord('q'):\n",
        "        break"
      ],
      "execution_count": null,
      "outputs": []
    },
    {
      "cell_type": "code",
      "metadata": {
        "id": "JJF3KPYF7d4r"
      },
      "source": [
        "cap.release()\n",
        "cap.destroyAllWindows()"
      ],
      "execution_count": null,
      "outputs": []
    },
    {
      "cell_type": "code",
      "metadata": {
        "id": "RlYQv4GK7gz0"
      },
      "source": [
        "import json\n",
        "from ibm_watson import VisualRecognitionV4\n",
        "from ibm_watson.visual_recognition_v4 import FileWithMetadata, AnalyzeEnums\n",
        "from ibm_cloud_sdk_core.authenticators import IAMAuthenticator"
      ],
      "execution_count": null,
      "outputs": []
    },
    {
      "cell_type": "code",
      "metadata": {
        "id": "PjH2UVSt7l24"
      },
      "source": [
        "apikey = '  '\n",
        "url = '   '\n",
        "collection = ' ' "
      ],
      "execution_count": null,
      "outputs": []
    },
    {
      "cell_type": "code",
      "metadata": {
        "id": "lHkAt6jL7vDM"
      },
      "source": [
        "authenticator = IAMAuthenticator(apikey)\n",
        "service = VisualRecognitionV4('2018-03-19', authenticator=authenticator)\n",
        "service.set_service_url(url)"
      ],
      "execution_count": null,
      "outputs": []
    },
    {
      "cell_type": "code",
      "metadata": {
        "id": "P6TiSWVY71pw"
      },
      "source": [
        "path = ' '"
      ],
      "execution_count": null,
      "outputs": []
    },
    {
      "cell_type": "code",
      "metadata": {
        "id": "TwKFiR0K76Cc"
      },
      "source": [
        "with open(path, 'rb') as mask_img:\n",
        "    analyze_images = service.analyze(collection_ids=[collection], \n",
        "                                     features=[AnalyzeEnums.Features.OBJECTS.value], \n",
        "                                    images_file=[FileWithMetadata(mask_img)]).get_result()"
      ],
      "execution_count": null,
      "outputs": []
    },
    {
      "cell_type": "code",
      "metadata": {
        "id": "97KlRlct795r"
      },
      "source": [
        "analyze_images"
      ],
      "execution_count": null,
      "outputs": []
    },
    {
      "cell_type": "code",
      "metadata": {
        "id": "4hGFtjAj8B9J"
      },
      "source": [
        "item = analyze_images['images'][0]['objects']['collections'][0]['objects'][0]['object']\n",
        "y = analyze_images['images'][0]['objects']['collections'][0]['objects'][0]['location']"
      ],
      "execution_count": null,
      "outputs": []
    },
    {
      "cell_type": "code",
      "metadata": {
        "id": "6Gjaq65N8FLe"
      },
      "source": [
        "coords"
      ],
      "execution_count": null,
      "outputs": []
    },
    {
      "cell_type": "code",
      "metadata": {
        "id": "QvDgNvSe8JeS"
      },
      "source": [
        "img = cv2.imread(path)\n",
        "img = cv2.cvtColor(img, cv2.COLOR_BGR2RGB)\n",
        "font = cv2.FONT_HERSHEY_SIMPLEX\n",
        "img = cv2.putText(img, text=obj, org=(y['left']+y['width'], y['top']+y['height']), fontFace=font, fontScale=2, color=(0,255,0), thickness=5, lineType=cv2.LINE_AA)"
      ],
      "execution_count": null,
      "outputs": []
    },
    {
      "cell_type": "code",
      "metadata": {
        "id": "7IZBEwz28bZx"
      },
      "source": [
        "plt.imshow(img)"
      ],
      "execution_count": null,
      "outputs": []
    },
    {
      "cell_type": "code",
      "metadata": {
        "id": "gfxmGWaE8ffV"
      },
      "source": [
        "item"
      ],
      "execution_count": null,
      "outputs": []
    }
  ]
}